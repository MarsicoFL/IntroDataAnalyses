{
  "nbformat": 4,
  "nbformat_minor": 0,
  "metadata": {
    "colab": {
      "provenance": []
    },
    "kernelspec": {
      "name": "python3",
      "display_name": "Python 3"
    },
    "language_info": {
      "name": "python"
    }
  },
  "cells": [
    {
      "cell_type": "markdown",
      "source": [
        "# TP 4: Visualización de datos I\n",
        "En este TP nos adentraremos en distintas formas de visualizar y representar grandes volúmenes de datos. Para esto es fundamental tener presente el contenido de las materias Estadística I y Estadística II, donde vieron los distintos tipos de datos.\n",
        "\n",
        "En el siguiente link tienen un recurso muy importante, que se llama \"from data to Viz\". Es de un grupo de estadísticos y diseñadores que se tomaron bastante en serio el trabajo de sistematización y descripción de distintos tipos de representaciones. En el siguiente link pueden encontrar recursos:\n",
        "\n",
        "[From data to viz](https://www.data-to-viz.com/)\n",
        "\n",
        "Vamos por lo primero, carga de paquetes"
      ],
      "metadata": {
        "id": "28et-sIKkgeZ"
      }
    },
    {
      "cell_type": "code",
      "execution_count": null,
      "metadata": {
        "id": "v10CzRvBbefI"
      },
      "outputs": [],
      "source": [
        "# !pip3 install pandas\n",
        "# !pip3 install seaborn\n",
        "# !pip3 install matplotlib\n",
        "import pandas as pd\n",
        "pd.plotting.register_matplotlib_converters()\n",
        "import matplotlib.pyplot as plt\n",
        "%matplotlib inline\n",
        "import seaborn as sns\n"
      ]
    },
    {
      "cell_type": "markdown",
      "source": [
        "Pregunta: ¿Por qué las líneas que dicen !pip3 install están comentadas? ¿Qué susce si las descomentamos? Ahora vamos a decargas los datos presentes en el siguiente link: [fifa](https://drive.google.com/file/d/1fu9sFqBh1zQI_-de7eb2RFtxYWM9dwGj/view?usp=sharing)\n",
        "\n",
        "Recuerden ponerlo en su drive, en la carpeta TP4. Ahora, con el siguiente códiga podrán montar el drive y cargar los datos (no le cambien el nombre)"
      ],
      "metadata": {
        "id": "_PVq972clzmj"
      }
    },
    {
      "cell_type": "code",
      "source": [
        "from google.colab import drive\n",
        "drive.mount('/content/drive')\n",
        "\n",
        "fifa_data = pd.read_csv(\"/content/drive/MyDrive/IMD/TP4/fifa.csv\", index_col=\"Date\", parse_dates=True)"
      ],
      "metadata": {
        "id": "0A3oHKxym1XO"
      },
      "execution_count": null,
      "outputs": []
    },
    {
      "cell_type": "markdown",
      "source": [
        "## Gráficos de líneas\n",
        "\n",
        "Pregunta relacionada con la clase anterior, ¿qué se supone que hace el parámetro parse_dates=true? Ahora vamos a mirar los datos"
      ],
      "metadata": {
        "id": "5A3d3S9InUge"
      }
    },
    {
      "cell_type": "code",
      "source": [
        "fifa_data.head()"
      ],
      "metadata": {
        "id": "RT4dWy5vm1f3"
      },
      "execution_count": null,
      "outputs": []
    },
    {
      "cell_type": "markdown",
      "source": [
        "Y a hacer los primeros gráficos"
      ],
      "metadata": {
        "id": "ym3yHjNgnogF"
      }
    },
    {
      "cell_type": "code",
      "source": [
        "plt.figure(figsize=(16,6))\n",
        "sns.lineplot(data=fifa_data)\n",
        "plt.xlabel(\"Fecha\")"
      ],
      "metadata": {
        "id": "uzQ0ijsBnqqU"
      },
      "execution_count": null,
      "outputs": []
    },
    {
      "cell_type": "markdown",
      "source": [
        "Es bastante información, ¿no? Interpretemosla.\n",
        "\n",
        "Ahora vamos a analizar otro tipo de datos, que se pueden descargar del siguiente link:\n",
        "\n",
        "[spotify](https://drive.google.com/file/d/15x0YXpWQtXxrmPHW38x6N5rAJi8n205Q/view?usp=sharing)\n",
        "\n",
        "Corresponde a canciones escuchadas en spotify. De nuevo, ya saben donde ubicar el archivo."
      ],
      "metadata": {
        "id": "NBQ4lBRdnw2S"
      }
    },
    {
      "cell_type": "code",
      "source": [
        "spotify_data = pd.read_csv(\"/content/drive/MyDrive/IMD/TP4/spotify.csv\", index_col=\"Date\", parse_dates=True)"
      ],
      "metadata": {
        "id": "pnjDTZAPn0qE"
      },
      "execution_count": null,
      "outputs": []
    },
    {
      "cell_type": "markdown",
      "source": [
        "Como siempre, primero se miran los datos"
      ],
      "metadata": {
        "id": "sBpgRw6GolB5"
      }
    },
    {
      "cell_type": "code",
      "source": [
        "spotify_data.head()"
      ],
      "metadata": {
        "id": "mTurIkG2onYl"
      },
      "execution_count": null,
      "outputs": []
    },
    {
      "cell_type": "markdown",
      "source": [
        "También se pueden mirar los últimos"
      ],
      "metadata": {
        "id": "y5zy-U04oqcE"
      }
    },
    {
      "cell_type": "code",
      "source": [
        "spotify_data.tail()"
      ],
      "metadata": {
        "id": "CLvWIyOqosEK"
      },
      "execution_count": null,
      "outputs": []
    },
    {
      "cell_type": "markdown",
      "source": [
        "Realizamos el primer gráfico"
      ],
      "metadata": {
        "id": "ePuFgo_2osuO"
      }
    },
    {
      "cell_type": "code",
      "source": [
        "sns.lineplot(data=spotify_data)\n",
        "\n",
        "plt.xlabel(\"Fecha\")"
      ],
      "metadata": {
        "id": "RnZIOozMowCJ"
      },
      "execution_count": null,
      "outputs": []
    },
    {
      "cell_type": "markdown",
      "source": [
        "Repasemos la estructura, ¿qué era sns? ¿y qué será lineplot? ¿Qué se especifica en el parámetro data? Comparemoslos con el código del gráfico anterior.\n",
        "\n",
        "Como se puede observar arriba, la línea de código es relativamente corta y tiene dos componentes principales:\n",
        "\n",
        "sns.lineplot indica al programa que queremos crear un gráfico de líneas.\n",
        "Cada comando analiza en este TP empezará con sns, lo que indica que el comando proviene del paquete seaborn. Por ejemplo, usamos sns.lineplot para hacer gráficos de líneas. Pronto utilizaremos sns.barplot y sns.heatmap para hacer gráficos de barras y mapas de calor, respectivamente.\n",
        "data=spotify_data selecciona los datos que se utilizarán para crear el gráfico.\n",
        "Es importante tener en cuenta que siempre se utilizará este mismo formato cuando se cree un gráfico de líneas, y lo único que cambia con un nuevo conjunto de datos es el nombre del conjunto de datos.\n",
        "\n",
        "A continuación le agregamos más características al gráfico:"
      ],
      "metadata": {
        "id": "VP5LprvBoxB1"
      }
    },
    {
      "cell_type": "code",
      "source": [
        "plt.figure(figsize=(14,6))\n",
        "\n",
        "plt.title(\"Canciones más populares entre 2017 y 2018\")\n",
        "\n",
        "sns.lineplot(data=spotify_data)\n",
        "\n",
        "plt.xlabel(\"Fecha\")\n",
        "plt.ylabel(\"Reproducciones\")"
      ],
      "metadata": {
        "id": "_E5LzC2opkWY"
      },
      "execution_count": null,
      "outputs": []
    },
    {
      "cell_type": "markdown",
      "source": [
        "Bien, ahora veamos que columnas tiene el set de datos:"
      ],
      "metadata": {
        "id": "eY68S4Zypzj8"
      }
    },
    {
      "cell_type": "code",
      "source": [
        "list(spotify_data.columns)"
      ],
      "metadata": {
        "id": "VEhgK5flp2Gp"
      },
      "execution_count": null,
      "outputs": []
    },
    {
      "cell_type": "markdown",
      "source": [
        "Supongamos que queremos graficar valores específicos, o a lo que se llama un \"subset\"."
      ],
      "metadata": {
        "id": "sCr9A-Xtp6EP"
      }
    },
    {
      "cell_type": "code",
      "source": [
        "plt.figure(figsize=(14,6))\n",
        "\n",
        "plt.title(\"Canciones más populares entre 2017 y 2018\")\n",
        "\n",
        "sns.lineplot(data=spotify_data['Shape of You'], label=\"Shape of You\")\n",
        "\n",
        "sns.lineplot(data=spotify_data['Despacito'], label=\"Despacito\")\n",
        "\n",
        "plt.xlabel(\"Fecha\")"
      ],
      "metadata": {
        "id": "03CMl6Ezp-5P"
      },
      "execution_count": null,
      "outputs": []
    },
    {
      "cell_type": "markdown",
      "source": [
        "## Gráficos de barras y heatmaps\n",
        "En esta sección vamos a ver otro tipo de gráficos, los de barras y los heatmap. Para esto vamos a utilizar otra base de datos, que ya saben donde colocarla.\n",
        "\n",
        "[Vuelos](https://drive.google.com/file/d/1XgZeVdugkd_Zirb3StAxWMeXYicB6EXX/view?usp=sharing)"
      ],
      "metadata": {
        "id": "kHXj6DkaqWBX"
      }
    },
    {
      "cell_type": "code",
      "source": [
        "flight_data = pd.read_csv(\"/content/drive/MyDrive/IMD/TP4/flight_delays.csv\", index_col=\"Month\")"
      ],
      "metadata": {
        "id": "xp0acjYGrDaH"
      },
      "execution_count": null,
      "outputs": []
    },
    {
      "cell_type": "markdown",
      "source": [
        "Puede notar que el código es ligeramente más corto que lo que se usó en el caso anterior. En este caso, como las etiquetas de las filas (de la columna 'Month') no corresponden a fechas, no agregamos parse_dates=True entre paréntesis. Miramos los datos:"
      ],
      "metadata": {
        "id": "p70Ea8ZorSpD"
      }
    },
    {
      "cell_type": "code",
      "source": [
        "flight_data"
      ],
      "metadata": {
        "id": "KeAgfyBLrbQl"
      },
      "execution_count": null,
      "outputs": []
    },
    {
      "cell_type": "markdown",
      "source": [
        "Realizamos nuestro primer gráfico de barras"
      ],
      "metadata": {
        "id": "XX5GJp-EreEN"
      }
    },
    {
      "cell_type": "code",
      "source": [
        "plt.figure(figsize=(10,6))\n",
        "\n",
        "plt.title(\"Promedio de demora en arrivos de vuelos al aeropuerto, por mes\")\n",
        "\n",
        "sns.barplot(x=flight_data.index, y=flight_data['NK'])\n",
        "\n",
        "plt.ylabel(\"Promedio de demoras (en minutos)\")"
      ],
      "metadata": {
        "id": "mDQ8Bj0_riF7"
      },
      "execution_count": null,
      "outputs": []
    },
    {
      "cell_type": "markdown",
      "source": [
        "Detengánse un minuto a mirar bien línea por línea, ¿qué se específica? ¿Qué diferencia tienen los comandos utilizados respecto a los gráficos de líneas? También tenemos información de las aerolíneas, por lo tanto podemos hacer un gráfico un poco más complejo, denominado heatmap:"
      ],
      "metadata": {
        "id": "HDTqrLySrkUy"
      }
    },
    {
      "cell_type": "code",
      "source": [
        "plt.figure(figsize=(14,7))\n",
        "\n",
        "plt.title(\"Promedio de demora en arrivos de vuelos al aeropuerto, por mes\")\n",
        "\n",
        "sns.heatmap(data=flight_data, annot=True)\n",
        "\n",
        "plt.xlabel(\"Aerolínea\")\n",
        "plt.ylabel(\"Mes\")\n"
      ],
      "metadata": {
        "id": "D6LuBMvbsF2i"
      },
      "execution_count": null,
      "outputs": []
    },
    {
      "cell_type": "markdown",
      "source": [
        "¿Qué puede extraerse del gráfico?"
      ],
      "metadata": {
        "id": "XUn9anzUreFh"
      }
    },
    {
      "cell_type": "markdown",
      "source": [
        "## Gráficos de puntos\n",
        "En este caso analizaremos gráficos de puntos. Estos son muy importantes para encontrar relaciones entre dos o más variables. En un eje se coloca el valor de una variable y en el otro el de la otra. Primero cargamos los datos, para este caso tomaremos un ejemplo relacionado a hábitos de salud.\n",
        "\n",
        "[Fumadores](https://drive.google.com/file/d/1Uq-0JMMn0h2adNRXfFjVg9SsYBze6Hk8/view?usp=sharing)\n",
        "\n",
        "Ya saben donde colocarlo, a continuación el código:"
      ],
      "metadata": {
        "id": "uDQVdreSreLr"
      }
    },
    {
      "cell_type": "code",
      "source": [
        "insurance_data = pd.read_csv(\"/content/drive/MyDrive/IMD/TP4/insurance.csv\")"
      ],
      "metadata": {
        "id": "X2799yjItkMN"
      },
      "execution_count": null,
      "outputs": []
    },
    {
      "cell_type": "markdown",
      "source": [
        "Como siempre, miramos los datos!"
      ],
      "metadata": {
        "id": "WEMOQUBDt-aQ"
      }
    },
    {
      "cell_type": "code",
      "source": [
        "insurance_data.head()"
      ],
      "metadata": {
        "id": "7a-fSeFvuBxg"
      },
      "execution_count": null,
      "outputs": []
    },
    {
      "cell_type": "markdown",
      "source": [
        "El código básico para los gráficos de puntos es sencillo, hay que especificar el valor que va en el eje X y el que va en el eje Y"
      ],
      "metadata": {
        "id": "028LlVLyuEib"
      }
    },
    {
      "cell_type": "code",
      "source": [
        "sns.scatterplot(x=insurance_data['bmi'], y=insurance_data['charges'])\n",
        "plt.xlabel(\"IMC\")\n",
        "plt.ylabel(\"Costo\")"
      ],
      "metadata": {
        "id": "xZtrOynIuKXP"
      },
      "execution_count": null,
      "outputs": []
    },
    {
      "cell_type": "markdown",
      "source": [
        "El gráfico de dispersión anterior sugiere que el índice de masa corporal (IMC o bmi en inglés) y los cargos del seguro están correlacionados positivamente, donde los clientes con un IMC más alto también tienden a pagar más en costos de seguro (charges). Este patrón tiene sentido, ya que un alto IMC (bmi) se asocia típicamente con un mayor riesgo de enfermedades crónicas.\n",
        "\n",
        "Para verificar la fuerza de esta relación, es posible que desee agregar una línea de regresión, es decir, la línea que mejor se ajusta a los datos. Para hacer esto, se cambia el comando a sns.regplot."
      ],
      "metadata": {
        "id": "FomU4W3buWQH"
      }
    },
    {
      "cell_type": "code",
      "source": [
        "sns.regplot(x=insurance_data['bmi'], y=insurance_data['charges'])\n",
        "plt.xlabel(\"IMC\")\n",
        "plt.ylabel(\"Costo\")"
      ],
      "metadata": {
        "id": "GSGoS2d3udvf"
      },
      "execution_count": null,
      "outputs": []
    },
    {
      "cell_type": "markdown",
      "source": [
        "Interesante, ¿que esa línea de regresión? ¿Se acuerdan como se calculaba?\n",
        "\n",
        "Más allá de eso, vemos dos \"nubes\" o tendencias de datos. Vamos a buscar que sucede, o sea que otra variable podría estar afectando:"
      ],
      "metadata": {
        "id": "e2FRmhmkuinN"
      }
    },
    {
      "cell_type": "code",
      "source": [
        "sns.scatterplot(x=insurance_data['bmi'], y=insurance_data['charges'], hue=insurance_data['smoker'])\n",
        "plt.xlabel(\"IMC\")\n",
        "plt.ylabel(\"Costo\")"
      ],
      "metadata": {
        "id": "6LtXsxt3wM9S"
      },
      "execution_count": null,
      "outputs": []
    },
    {
      "cell_type": "markdown",
      "source": [
        "Ahora vemos que los fumadores (smokers) podrían estar afectando a la distribución, aquellos que si fuman, tienen valores de costo generalmente más altos que otros con la misma masa corporal, pero que no fuman. Hagamos la regresión solamente con los que fuman:"
      ],
      "metadata": {
        "id": "7oNj77LCwQVE"
      }
    },
    {
      "cell_type": "code",
      "source": [
        "sns.lmplot(x=\"bmi\", y=\"charges\", hue=\"smoker\", data=insurance_data)\n",
        "plt.xlabel(\"IMC\")\n",
        "plt.ylabel(\"Costo\")"
      ],
      "metadata": {
        "id": "F2K1CnMrwogU"
      },
      "execution_count": null,
      "outputs": []
    },
    {
      "cell_type": "markdown",
      "source": [
        "Ejercicio para ustedes! Como veran, este último gráfico está bueno, parece informativo y mostrar que hay una tendencia. Se les propone hacer lo siguiente:\n",
        "\n",
        "Consigna) que en el gráfico aparezca la ecuación de la regresión y el coeficiente de correlación de pearson, R2\n",
        "\n",
        "Recuérden que cuentan con chatGPT, google y la documentación de python a la que se accede con \"comando\"? Donde el comando es la función que se quiere analizar."
      ],
      "metadata": {
        "id": "Nqf3MPl1wqBA"
      }
    },
    {
      "cell_type": "code",
      "source": [
        "# Su código!"
      ],
      "metadata": {
        "id": "uwtrFNDGxNLy"
      },
      "execution_count": null,
      "outputs": []
    },
    {
      "cell_type": "markdown",
      "source": [
        "Por último vamos a hacer otro tipo de gráfico, y habrá que interpretarlo:"
      ],
      "metadata": {
        "id": "Vjy0cn6JxOyn"
      }
    },
    {
      "cell_type": "code",
      "source": [
        "sns.swarmplot(x=insurance_data['smoker'],\n",
        "              y=insurance_data['charges'])\n",
        "\n",
        "plt.xlabel(\"IMC\")\n",
        "plt.ylabel(\"Costo\")"
      ],
      "metadata": {
        "id": "hv0YCZQMxUYn"
      },
      "execution_count": null,
      "outputs": []
    },
    {
      "cell_type": "markdown",
      "source": [
        "## Graficar distribuciones\n",
        "Esto será particularmente útil cuando, más a futuro, veamos los modelos predictivos. Además, pueden utilizarse estos gráficos para analizar relaciones entre variables continuas. Nuevamente, cargaremos un nuevo tipo de base de datos, de características de flores:\n",
        "\n",
        "[Flores](https://drive.google.com/file/d/1dzBanIxDCyP-e0V5y9QuSgBFdAfZBZQM/view?usp=sharing)\n",
        "\n",
        "Ya saben donde poner los datos :)\n",
        "\n",
        "A cargarlos:\n"
      ],
      "metadata": {
        "id": "B2VPYougxXk3"
      }
    },
    {
      "cell_type": "code",
      "source": [
        "iris_data = pd.read_csv(\"/content/drive/MyDrive/IMD/TP4/iris.csv\", index_col=\"Id\")"
      ],
      "metadata": {
        "id": "te7ndFgmzvV8"
      },
      "execution_count": null,
      "outputs": []
    },
    {
      "cell_type": "markdown",
      "source": [
        "Como siempre, miramos los datos"
      ],
      "metadata": {
        "id": "-SuPci21z0n6"
      }
    },
    {
      "cell_type": "code",
      "source": [
        "iris_data.head()\n"
      ],
      "metadata": {
        "id": "_HCLfWbFz4-Y"
      },
      "execution_count": null,
      "outputs": []
    },
    {
      "cell_type": "markdown",
      "source": [
        "El primer gráfico que podemos hacer es el histograma, que nos permite analizar una variable a la vez"
      ],
      "metadata": {
        "id": "3Q4a46Osz5VC"
      }
    },
    {
      "cell_type": "code",
      "source": [
        "sns.histplot(iris_data['Petal Length (cm)'])\n",
        "plt.xlabel(\"Longitud del pétalo (cm)\")\n",
        "plt.ylabel(\"Cantidad\")"
      ],
      "metadata": {
        "id": "Z_Oo-BgP0BE4"
      },
      "execution_count": null,
      "outputs": []
    },
    {
      "cell_type": "markdown",
      "source": [
        "También pueden hacerse gráficos de densidad. La explicación de esto es un poco compleja, la vamos a ver en el pizarrón. El código a continuación:"
      ],
      "metadata": {
        "id": "BvLmE8450D-5"
      }
    },
    {
      "cell_type": "code",
      "source": [
        "sns.kdeplot(data=iris_data['Petal Length (cm)'], shade=True)\n",
        "plt.xlabel(\"Longitud del pétalo (cm)\")\n",
        "plt.ylabel(\"Densidad\")"
      ],
      "metadata": {
        "id": "KiwJGFYJ0PHI"
      },
      "execution_count": null,
      "outputs": []
    },
    {
      "cell_type": "markdown",
      "source": [
        "Notese que hasta este momento analizamos una variable a la vez, viendo la frecuencia de cada valor en la población de flores analizadas. Podemos hacer algo similar con dos variables en conjunto:"
      ],
      "metadata": {
        "id": "9lNtQbWb0UDS"
      }
    },
    {
      "cell_type": "code",
      "source": [
        "sns.jointplot(x=iris_data['Petal Length (cm)'], y=iris_data['Sepal Width (cm)'], kind=\"kde\")\n",
        "plt.xlabel(\"Longitud del pétalo (cm)\")\n",
        "plt.ylabel(\"Ancho del pétalo (cm)\")"
      ],
      "metadata": {
        "id": "6UaiB7Dr0c4J"
      },
      "execution_count": null,
      "outputs": []
    },
    {
      "cell_type": "markdown",
      "source": [
        "Al igual que lo hicimos con el caso de los fumadores y el costo, agregar otra variable categórica al análisis mediante la introducción de colores suele ser una buena opción."
      ],
      "metadata": {
        "id": "qbQjNLkK0gEm"
      }
    },
    {
      "cell_type": "code",
      "source": [
        "sns.histplot(data=iris_data, x='Petal Length (cm)', hue='Species')\n",
        "\n",
        "plt.title(\"Histograma de longitud de pétalos, por especies\")\n",
        "plt.xlabel(\"Longitud del pétalo (cm)\")\n",
        "plt.ylabel(\"Cantidad\")"
      ],
      "metadata": {
        "id": "DtjsfMUb09MX"
      },
      "execution_count": null,
      "outputs": []
    },
    {
      "cell_type": "markdown",
      "source": [
        "También puede realizarse lo mismo con el gráfico de densidades"
      ],
      "metadata": {
        "id": "r_otAttE1HXF"
      }
    },
    {
      "cell_type": "code",
      "source": [
        "sns.kdeplot(data=iris_data, x='Petal Length (cm)', hue='Species', shade=True)\n",
        "\n",
        "plt.title(\"Distribution of Petal Lengths, by Species\")\n",
        "plt.xlabel(\"Longitud del pétalo (cm)\")\n",
        "plt.ylabel(\"Densidad\")"
      ],
      "metadata": {
        "id": "L0u2X6uA1Kfp"
      },
      "execution_count": null,
      "outputs": []
    }
  ]
}