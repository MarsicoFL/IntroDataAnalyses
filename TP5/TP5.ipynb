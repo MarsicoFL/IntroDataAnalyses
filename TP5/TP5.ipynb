{
  "cells": [
    {
      "cell_type": "markdown",
      "metadata": {
        "id": "lQHNaR-IA4f0"
      },
      "source": [
        "# Visualización II: trabajando con mapas\n",
        "\n",
        "En este TP vamos a trabajar primordialmente con mapas y datos geográficos. Para esto se utilizará una libreria relacionada a pandas, llamada geopandas. Primero instalamos todas las librerias necesarias."
      ]
    },
    {
      "cell_type": "code",
      "execution_count": null,
      "metadata": {
        "id": "ujCkyC84A4f1"
      },
      "outputs": [],
      "source": [
        "!pip3 install qeds fiona geopandas xgboost gensim folium pyLDAvis descartes"
      ]
    },
    {
      "cell_type": "markdown",
      "metadata": {
        "id": "0LLG_PWJfk4W"
      },
      "source": [
        "Esto puede ser un poco más pesado que en los TPs anteriores. Ahora cargamos las librerias ya descargadas."
      ]
    },
    {
      "cell_type": "code",
      "execution_count": null,
      "metadata": {
        "id": "p_sGPpqKA4f1"
      },
      "outputs": [],
      "source": [
        "!pip3 install geopandas\n",
        "import geopandas as gpd\n",
        "import matplotlib.pyplot as plt\n",
        "import pandas as pd\n",
        "\n",
        "from shapely.geometry import Point\n",
        "\n",
        "%matplotlib inline\n",
        "import qeds\n"
      ]
    },
    {
      "cell_type": "markdown",
      "metadata": {
        "id": "5xhxk58fA4f2"
      },
      "source": [
        "## Formateando los datos\n",
        "En este caso, vamos a utilizar un nuevo paquete llamado geopandas para crear mapas.\n",
        "\n",
        "Los mapas son bastante complicados... \n",
        "\n",
        "Afortunadamente, geopandas es un herramienta muy versátil e intuitiva.\n",
        "\n",
        "Comencemos con un DataFrame que tenga las coordenadas de latitud y longitud de varias ciudades de Sudamérica.\n",
        "\n",
        "Nuestro objetivo es convertirlas en algo que podamos graficar - en este caso, un GeoDataFrame.\n"
      ]
    },
    {
      "cell_type": "code",
      "execution_count": null,
      "metadata": {
        "id": "x4HFMcbJA4f2"
      },
      "outputs": [],
      "source": [
        "df = pd.DataFrame({\n",
        "    'City': ['Buenos Aires', 'Brasilia', 'Santiago', 'Bogota', 'Caracas'],\n",
        "    'Country': ['Argentina', 'Brazil', 'Chile', 'Colombia', 'Venezuela'],\n",
        "    'Latitude': [-34.58, -15.78, -33.45, 4.60, 10.48],\n",
        "    'Longitude': [-58.66, -47.91, -70.66, -74.08, -66.86]\n",
        "})"
      ]
    },
    {
      "cell_type": "markdown",
      "metadata": {
        "id": "GuW2Xc-mA4f2"
      },
      "source": [
        "Para mapear las grandes ciudades debemos unir latitud y longitud en lo que llamaremos \"coordenadas\".\n"
      ]
    },
    {
      "cell_type": "code",
      "execution_count": null,
      "metadata": {
        "id": "_njKJK_tA4f3"
      },
      "outputs": [],
      "source": [
        "df[\"Coordinates\"] = list(zip(df.Longitude, df.Latitude))\n",
        "df.head()"
      ]
    },
    {
      "cell_type": "markdown",
      "metadata": {
        "id": "-Hr0Wu2mA4f4"
      },
      "source": [
        "El proximo paso es convertir esas coordenadas en un formato que pueda utilizarse para geolocalizar. Este se llama `Shapely` `Point` object.\n",
        "\n",
        "Esto se puede hacer aplicando el método `Point` a las `Coordinates`."
      ]
    },
    {
      "cell_type": "code",
      "execution_count": null,
      "metadata": {
        "id": "Gzg-7pGaA4f4"
      },
      "outputs": [],
      "source": [
        "df[\"Coordinates\"] = df[\"Coordinates\"].apply(Point)\n",
        "df.head()"
      ]
    },
    {
      "cell_type": "markdown",
      "metadata": {
        "id": "SssBTMBEA4f4"
      },
      "source": [
        "Finalmente el data.frame se convierte a lo que se conoce como un geodataframe llamando a la función de geopandas. Es necesario especificarle en que columna se encuentran las coordenas. \n",
        "\n",
        "Geodataframe es muy parecido a un dataframe común, como cualquiera de los que vinimos trabajando, pero contiene información que permite llevar a cabo mapas.\n",
        "\n"
      ]
    },
    {
      "cell_type": "code",
      "execution_count": null,
      "metadata": {
        "id": "wK-kIV-xA4f5"
      },
      "outputs": [],
      "source": [
        "gdf = gpd.GeoDataFrame(df, geometry=\"Coordinates\")\n",
        "gdf.head()"
      ]
    },
    {
      "cell_type": "markdown",
      "metadata": {
        "id": "lYhO8xM8A4f5"
      },
      "source": [
        "## Graficando el mapa\n",
        "\n",
        "Ahora con GeoDataFrame ya podemos avanzar.\n",
        "\n",
        "Esto implicará tres pasos\n",
        "\n",
        "1. Obtener el mapa  \n",
        "2. Graficar el mapa\n",
        "3. Graficar puntos o áreas sobre el mapa\n",
        "\n",
        "Iremos por cada uno de estos pasos a continuación"
      ]
    },
    {
      "cell_type": "markdown",
      "metadata": {
        "id": "CNhimFKLA4f6"
      },
      "source": [
        "### 1. Get the map\n",
        "\n",
        "Una organización llamada [Natural Earth](https://www.naturalearthdata.com/)  compiló los datos del mapa que utilizamos acá.\n",
        "\n",
        "El archivo proporciona los contornos de los países, sobre los cuales graficaremos las ubicaciones de las ciudades de nuestro GeoDataFrame.\n",
        "\n",
        "Geopandas ya viene con estos datos incluidos, así que no tenemos que buscarlos\n",
        "\n",
        "\n",
        "\n"
      ]
    },
    {
      "cell_type": "code",
      "execution_count": null,
      "metadata": {
        "id": "fPF4UIN6A4f6"
      },
      "outputs": [],
      "source": [
        "world = gpd.read_file(gpd.datasets.get_path(\"naturalearth_lowres\"))\n",
        "world = world.set_index(\"iso_a3\")\n",
        "\n",
        "world.head()"
      ]
    },
    {
      "cell_type": "markdown",
      "metadata": {
        "id": "qh9Wz7bcA4f6"
      },
      "source": [
        "`world` es un geodataframe con las siguientes columnas:\n",
        "\n",
        "- `pop_est`: contiene la población estimada del país.\n",
        "- `continent`: el continente del país\n",
        "- `name`: el nombre del país\n",
        "- `iso_a3`: las tres letras que definen al pais  \n",
        "- `gdp_md_est`: una estimación del GDP del país\n",
        "- `geometry`: un `POLYGON` de cada país, ya se analizará esto en detalle más adelante."
      ]
    },
    {
      "cell_type": "code",
      "execution_count": null,
      "metadata": {
        "id": "hxfS2JZ9A4f6"
      },
      "outputs": [],
      "source": [
        "world.geometry.name"
      ]
    },
    {
      "cell_type": "markdown",
      "metadata": {
        "id": "cm0WfLO0A4f6"
      },
      "source": [
        "Observa que la geometría de este GeoDataFrame se almacena en la columna geometry.\n",
        "\n",
        "Una breve nota acerca de los polígonos\n",
        "\n",
        "En lugar de puntos (como lo son nuestras ciudades), los objetos de geometría ahora son polígonos.\n",
        "\n",
        "Un polígono es lo que probablemente ya pienses que es: una colección de puntos ordenados conectados por líneas rectas.\n",
        "\n",
        "Cuanto menor sea la distancia entre los puntos, más fácilmente el polígono puede aproximar formas no lineales.\n",
        "\n",
        "Veamos un ejemplo de un polígono.\n"
      ]
    },
    {
      "cell_type": "code",
      "execution_count": null,
      "metadata": {
        "id": "x9nLeOxJA4f6"
      },
      "outputs": [],
      "source": [
        "world.loc[\"ALB\", 'geometry']"
      ]
    },
    {
      "cell_type": "markdown",
      "metadata": {
        "id": "_GF8OihkA4f7"
      },
      "source": [
        "Este país es Albania"
      ]
    },
    {
      "cell_type": "code",
      "execution_count": null,
      "metadata": {
        "id": "_ZxQHWTiA4f7"
      },
      "outputs": [],
      "source": [
        "x, y = world.loc[\"ALB\", \"geometry\"].exterior.coords.xy\n",
        "\n",
        "print('Points in the exterior of Albania:', len(x))"
      ]
    },
    {
      "cell_type": "markdown",
      "metadata": {
        "id": "-btlfqfPA4f7"
      },
      "source": [
        "El siguiente ¿cuál es?"
      ]
    },
    {
      "cell_type": "code",
      "execution_count": null,
      "metadata": {
        "id": "rf8iO0AdA4f7"
      },
      "outputs": [],
      "source": [
        "world.loc[\"AFG\", \"geometry\"]"
      ]
    },
    {
      "cell_type": "code",
      "execution_count": null,
      "metadata": {
        "id": "xLcia-pKA4f7"
      },
      "outputs": [],
      "source": [
        "x, y = world.loc[\"AFG\", 'geometry'].exterior.coords.xy\n",
        "\n",
        "print('Points in the exterior of Afghanistan:', len(x))"
      ]
    },
    {
      "cell_type": "markdown",
      "metadata": {
        "id": "5D-_8t_BA4f8"
      },
      "source": [
        "Notese que Afganistán es más complejo que Albania, por lo tanto necesita más puntos."
      ]
    },
    {
      "cell_type": "markdown",
      "metadata": {
        "id": "U2vV_77hA4f8"
      },
      "source": [
        "### 2. Graficando el mapa"
      ]
    },
    {
      "cell_type": "code",
      "execution_count": null,
      "metadata": {
        "id": "zMc83SszA4f8"
      },
      "outputs": [],
      "source": [
        "fig, gax = plt.subplots(figsize=(10,10))\n",
        "\n",
        "world.query(\"continent == 'South America'\").plot(ax=gax, edgecolor='black',color='white')\n",
        "\n",
        "gax.set_xlabel('longitud')\n",
        "gax.set_ylabel('latitud')\n",
        "\n",
        "gax.spines['top'].set_visible(False)\n",
        "gax.spines['right'].set_visible(False)\n",
        "\n",
        "plt.show()"
      ]
    },
    {
      "cell_type": "markdown",
      "metadata": {
        "id": "jURB0ng7A4f8"
      },
      "source": [
        "Hay mucho trabajo detrás del mapa que acabamos de hacer, desde definiciones provenientes de las Ciencias Geográficas hasta la programación."
      ]
    },
    {
      "cell_type": "markdown",
      "metadata": {
        "id": "ezaJKyRFA4f8"
      },
      "source": [
        "### 3. Graficar los puntos o áreas en el mapa\n",
        "\n",
        "En el código a continuación, ejecutamos los mismos comandos que antes para graficar los países de Sudamérica, pero ahora también graficamos los datos en gdf, que contiene la ubicación de las ciudades de Sudamérica."
      ]
    },
    {
      "cell_type": "code",
      "execution_count": null,
      "metadata": {
        "id": "YstVD1ZIA4f8"
      },
      "outputs": [],
      "source": [
        "fig, gax = plt.subplots(figsize=(10,10))\n",
        "\n",
        "world.query(\"continent == 'South America'\").plot(ax = gax, edgecolor='black', color='white')\n",
        "\n",
        "gdf.plot(ax=gax, color='red', alpha = 0.5)\n",
        "\n",
        "gax.set_xlabel('longitud')\n",
        "gax.set_ylabel('latitud')\n",
        "gax.set_title('Sud America')\n",
        "\n",
        "gax.spines['top'].set_visible(False)\n",
        "gax.spines['right'].set_visible(False)\n",
        "\n",
        "plt.show()"
      ]
    },
    {
      "cell_type": "markdown",
      "metadata": {
        "id": "h30B7xkUA4f8"
      },
      "source": [
        "Adhiriendo leyendas a los puntos.\n",
        "Es necesario para saber que ciudad es cada una"
      ]
    },
    {
      "cell_type": "code",
      "execution_count": null,
      "metadata": {
        "id": "vwl_uSSyA4f9"
      },
      "outputs": [],
      "source": [
        "fig, gax = plt.subplots(figsize=(10,10))\n",
        "\n",
        "world.query(\"continent == 'South America'\").plot(ax = gax, edgecolor='black', color='white')\n",
        "\n",
        "gdf.plot(ax=gax, color='red', alpha = 0.5)\n",
        "\n",
        "gax.set_xlabel('longitud')\n",
        "gax.set_ylabel('latitud')\n",
        "gax.set_title('Sud America')\n",
        "\n",
        "gax.spines['top'].set_visible(False)\n",
        "gax.spines['right'].set_visible(False)\n",
        "\n",
        "for x, y, label in zip(gdf['Coordinates'].x, gdf['Coordinates'].y, gdf['City']):\n",
        "    gax.annotate(label, xy=(x,y), xytext=(4,4), textcoords='offset points')\n",
        "\n",
        "plt.show()"
      ]
    },
    {
      "cell_type": "markdown",
      "metadata": {
        "id": "AU4L5ENLA4f9"
      },
      "source": [
        "## Caso de estudio: analizando la Ciudad de Buenos Aires \n",
        "\n",
        "Vamos a analizar un ejemplo puntual, el de la Ciudad de Buenos Aires. No analizamos PBA dado que probablemente sea utilizado en sus TPs ;) pero el procedimiento es muy similar"
      ]
    },
    {
      "cell_type": "code",
      "execution_count": null,
      "metadata": {
        "id": "zshFtf9anl-P"
      },
      "outputs": [],
      "source": [
        "!apt install libspatialindex-dev\n",
        "!pip install rtree\n",
        "import pandas as pd\n",
        "import geopandas\n",
        "import shapely.wkt\n",
        "import matplotlib.pyplot as plt\n",
        "%matplotlib inline"
      ]
    },
    {
      "cell_type": "code",
      "execution_count": null,
      "metadata": {},
      "outputs": [],
      "source": [
        "from google.colab import drive\n",
        "drive.mount('/content/drive')"
      ]
    },
    {
      "cell_type": "markdown",
      "metadata": {
        "id": "T_tkyORhnq7R"
      },
      "source": [
        "La información geográfica generalmente se agrupa en dos grandes categorías:\n",
        "\n",
        "- Datos ráster\n",
        "- Datos vectoriales\n",
        "\n",
        "**Ráster**: Los datos ráster son aquellos donde la información se encuentra codificada sobre una grilla o red, donde cada celda (o píxel) presenta un valor numérico. Los datos ráster son usados comúnmente en imágenes satelitales, en este caso cada píxel representa un espacio definido por la granularidad o calidad de la imagen tomada, por ejemplo, un píxel puede representar una superficie de 30 metros por 30 metros.\n",
        "\n",
        "Sin embargo, en esta clase nos vamos a concentrar en los datos **vectoriales**. En los datos vectoriales contamos con los siguientes tipos de objetos básicos: puntos, líneas, polígonos; así también tenemos multipunto, multilínea y multipolígono. La información se estructura a partir de las coordenadas de los vértices de cada uno de esos objetos.\n",
        "\n",
        "La datos vectoriales comúnmente se presenta en archivos como el formato shapefile (.shp) de ESRI, archivos GeoJSON, bases de PostGIS (es una extensión del motor de bases de datos PostgreSQL), etc.\n",
        "Con la librería **GeoPandas** se pueden leer muchos de estos archivos, interfaceando con la librería GDAL/OGR, usando la función geopandas.read_file.\n",
        "Además, también es posible leer información geográfica desde archivos planos (.csv) donde tenemos las coordenadas de puntos que referencian algún objeto. Por último, también existen casos en los que la información está guardada en formato WKT (Well-Known Text).\n",
        "\n",
        "En esta notebook vamos a ver distintas formas de importar información geográfica de archivos vectoriales."
      ]
    },
    {
      "cell_type": "code",
      "execution_count": null,
      "metadata": {
        "id": "Hoq-ScwtnxPx"
      },
      "outputs": [],
      "source": [
        "# https://data.buenosaires.gob.ar/dataset/barrios\n",
        "barrios = pd.read_csv(\"/content/drive/MyDrive/IMD/TP5/barrios.csv\", encoding='latin1', delimiter=';')"
      ]
    },
    {
      "cell_type": "code",
      "execution_count": null,
      "metadata": {
        "id": "mOW8aim9nyu4"
      },
      "outputs": [],
      "source": [
        "barrios.head()"
      ]
    },
    {
      "cell_type": "code",
      "execution_count": null,
      "metadata": {
        "id": "6tTnj6sWn0Vo"
      },
      "outputs": [],
      "source": [
        "# En este caso la información está en WKT\n",
        "barrios[\"WKT\"].iloc[0]"
      ]
    },
    {
      "cell_type": "markdown",
      "metadata": {
        "id": "za9HB4fTn370"
      },
      "source": [
        "Los GeoDataFrame son objetos que tienen los mismos atributos que un Pandas DataFrame, con lo cual se puede manipular de datos a la que estamos acostumbrados. Como, por ejemplo, el método .plot(), acceso por .loc, .iloc, etc.\n",
        "Además, los GeoDataFrames tienen un atributo *geometry* que indica la columna que contiene la información geográfica."
      ]
    },
    {
      "cell_type": "code",
      "execution_count": null,
      "metadata": {
        "id": "TiuxPD8bn6V6"
      },
      "outputs": [],
      "source": [
        "def from_wkt(df, wkt_column, crs='EPSG:4326'):\n",
        "    \n",
        "    df[\"coordinates\"]= df[wkt_column].apply(shapely.wkt.loads) # empleamos una función de shapely para leer WKT\n",
        "        \n",
        "    gdf = geopandas.GeoDataFrame(df, geometry='coordinates', crs=crs) # seteamos la columna de geometría\n",
        "    \n",
        "    return gdf"
      ]
    },
    {
      "cell_type": "code",
      "execution_count": null,
      "metadata": {
        "id": "xxer7QpIn7wQ"
      },
      "outputs": [],
      "source": [
        "barrios = from_wkt(barrios, \"WKT\")"
      ]
    },
    {
      "cell_type": "markdown",
      "metadata": {
        "id": "qsSR2q8HqMh_"
      },
      "source": [
        "Asi podemos ver info específica de los barrios"
      ]
    },
    {
      "cell_type": "code",
      "execution_count": null,
      "metadata": {
        "id": "gxJoeUBan-Jg"
      },
      "outputs": [],
      "source": [
        "barrios.query(\"BARRIO == 'CABALLITO'\") # podemos usar query"
      ]
    },
    {
      "cell_type": "markdown",
      "metadata": {
        "id": "7vP5b2qpqPFm"
      },
      "source": [
        "También sus límites"
      ]
    },
    {
      "cell_type": "code",
      "execution_count": null,
      "metadata": {
        "id": "i6L5pwQvqJC-"
      },
      "outputs": [],
      "source": [
        "barrios.plot(); # BOOM: con uds. CABA!"
      ]
    },
    {
      "cell_type": "markdown",
      "metadata": {
        "id": "Pgt5ENmzqQ5V"
      },
      "source": [
        "Y también los polígonos"
      ]
    },
    {
      "cell_type": "code",
      "execution_count": null,
      "metadata": {
        "id": "2LKoL0oiqLb4"
      },
      "outputs": [],
      "source": [
        "barrios.geometry.head() "
      ]
    },
    {
      "cell_type": "markdown",
      "metadata": {
        "id": "P1xwU2zzqWuN"
      },
      "source": [
        "La librería shapely nos provee acceso a los objetos geométricos. Con ella podemos generar los objetos Point, Polygon y Line. Veamos un ejemplo. Además, podemos especificar la proyección pasando el parámetro crs. Para ver cómo transformar una proyección se puede ir a: http://geopandas.readthedocs.io/en/latest/projections.html"
      ]
    },
    {
      "cell_type": "code",
      "execution_count": null,
      "metadata": {
        "id": "ZPob2vinqbr-"
      },
      "outputs": [],
      "source": [
        "from shapely.geometry import Point\n",
        "\n",
        "p = Point(-58.396295, -34.591789) # Armo un punto a partir de dos coordenadas geográficas\n",
        "\n",
        "df = pd.DataFrame(data = {'id': [1]}) # Armo un DataFrame\n",
        "\n",
        "gdf = geopandas.GeoDataFrame(df, crs=\"EPSG:4326\", geometry=[p])"
      ]
    },
    {
      "cell_type": "markdown",
      "metadata": {
        "id": "ocA4FaUsqdcS"
      },
      "source": [
        "gdf # este es un GeoDataFrame con un solo punto"
      ]
    },
    {
      "cell_type": "code",
      "execution_count": null,
      "metadata": {
        "id": "4GarrVE8qgAY"
      },
      "outputs": [],
      "source": [
        "fig, ax = plt.subplots() # Noten que vamos a reutilizar el axis (ax) en cada plot. \n",
        "ax.set_aspect('equal')\n",
        "barrios.plot(ax=ax, color='white', edgecolor='black') # Esto es para evitar que las capas se ploteen separadas.\n",
        "gdf.plot(ax=ax, marker='x', color='red', markersize=25)\n",
        "plt.show();"
      ]
    },
    {
      "cell_type": "markdown",
      "metadata": {
        "id": "TelJMAGLqkyF"
      },
      "source": [
        "Geopandas nos permite también realizar lo que se conoce como \"operaciones geográficas\". Básicamente es obtener datos, calcular áreas, distancias, entre otras. \n",
        "\n",
        "Las principales operaciones geográficas son:\n",
        "\n",
        "    - equals\n",
        "    - contains\n",
        "    - crosses\n",
        "    - disjoint\n",
        "    - overlaps\n",
        "    - touches\n",
        "    - within\n",
        "    - covers\n",
        "    - contains\n",
        "    - intersects\n",
        "    - intersection\n",
        "    - union\n",
        "    - unary_union\n",
        "    - difference\n",
        "    - overlay (difference, intersection, symmetric_difference) \n",
        "    - sjoin\n",
        "    \n",
        "    \n",
        "En el siguiente link se tiene una referencia de varios de estos métodos, los heredados de shapely:\n",
        "https://shapely.readthedocs.io/en/stable/manual.html#predicates-and-relationships\n",
        "\n",
        "Ahora vamos a mapear hospitales. Descargamos primero la base de datos:"
      ]
    },
    {
      "cell_type": "code",
      "execution_count": null,
      "metadata": {
        "id": "dlHP3Jkdve-a"
      },
      "outputs": [],
      "source": [
        "bomberos = pd.read_csv(\"/content/drive/MyDrive/IMD/TP5/bomberos.csv\")\n",
        "bomberos.head(3)"
      ]
    },
    {
      "cell_type": "code",
      "execution_count": null,
      "metadata": {
        "id": "QF9JaTx_vfNA"
      },
      "outputs": [],
      "source": [
        "bomberos_gdf = gpd.GeoDataFrame(bomberos, geometry=gpd.points_from_xy(bomberos['long'], bomberos['lat']))"
      ]
    },
    {
      "cell_type": "code",
      "execution_count": null,
      "metadata": {
        "id": "CdXTwZFSvkjf"
      },
      "outputs": [],
      "source": [
        "fig, ax = plt.subplots()\n",
        "ax.set_aspect('equal')\n",
        "barrios.plot(ax=ax, color='white', edgecolor='black')\n",
        "bomberos.plot(ax=ax, marker='o', color='red', markersize=25)\n",
        "plt.show();"
      ]
    },
    {
      "cell_type": "markdown",
      "metadata": {
        "id": "7qVvl5mhvp5q"
      },
      "source": [
        "Imagínese que se desea bacer el siguiente análisis: suponiendo que cada delegación de bomberos tiene un alcance de hasta 1.5 km (ACLARACIÓN: este valor no se basa en la realidad) se desean obtener los lugares abarcados y los no abarcados por el servicio.\n",
        "\n",
        "Para ello primero tendremos que convertir la proyección a una proyección que nos permita trabajar en metros y no en grados. Para eso usaremos la proyección  Gauss-Krueger Buenos Aires. \n",
        "\n",
        "Convertimos nuestros datasets a GKBA"
      ]
    },
    {
      "cell_type": "code",
      "execution_count": null,
      "metadata": {},
      "outputs": [],
      "source": [
        "barrios.set_crs(\"EPSG:4326\", inplace=True)\n",
        "bomberos_gdf.set_crs(\"EPSG:4326\", inplace=True)\n",
        "print(\"CRS asignado\")"
      ]
    },
    {
      "cell_type": "code",
      "execution_count": null,
      "metadata": {
        "id": "u3jCsuVEv3Bp"
      },
      "outputs": [],
      "source": [
        "# Transformar el CRS de 'barrios'\n",
        "barrios_gkba = barrios.to_crs(crs=\"+proj=tmerc +lat_0=-34.629269 +lon_0=-58.4633 +k=0.9999980000000001 +x_0=100000 +y_0=100000 +ellps=intl +units=m +no_defs\")\n",
        "print(\"Transformación de CRS para barrios completada.\")\n",
        "\n",
        "# Transformar el CRS de 'bomberos'\n",
        "bomberos_gkba = bomberos_gdf.to_crs(crs=\"+proj=tmerc +lat_0=-34.629269 +lon_0=-58.4633 +k=0.9999980000000001 +x_0=100000 +y_0=100000 +ellps=intl +units=m +no_defs\")\n",
        "print(\"Transformación de CRS para bomberos completada.\")"
      ]
    },
    {
      "cell_type": "markdown",
      "metadata": {
        "id": "7s4f-8ipv_Cy"
      },
      "source": [
        "¿Qué pasó ahora con la geometría?"
      ]
    },
    {
      "cell_type": "code",
      "execution_count": null,
      "metadata": {
        "id": "0R-Xx8vLv8bJ"
      },
      "outputs": [],
      "source": [
        "bomberos_gkba.head().geometry"
      ]
    },
    {
      "cell_type": "code",
      "execution_count": null,
      "metadata": {
        "id": "C4DoKAiNrsWQ"
      },
      "outputs": [],
      "source": [
        "bomberos_gkba_buff = bomberos_gkba.copy()\n",
        "bomberos_gkba_buff.geometry = bomberos_gkba.buffer(1500)"
      ]
    },
    {
      "cell_type": "markdown",
      "metadata": {
        "id": "TLk2t7zbrttk"
      },
      "source": [
        "Ahora graficamos el área cubierta"
      ]
    },
    {
      "cell_type": "code",
      "execution_count": null,
      "metadata": {
        "id": "9Dk3_P35rvr1"
      },
      "outputs": [],
      "source": [
        "fig, ax = plt.subplots()\n",
        "ax.set_aspect('equal')\n",
        "barrios_gkba.plot(ax=ax, color='white', edgecolor='black')\n",
        "bomberos_gkba_buff.plot(ax=ax, color='red')\n",
        "plt.show();"
      ]
    },
    {
      "cell_type": "markdown",
      "metadata": {
        "id": "oSxa0lwSryOX"
      },
      "source": [
        "Ahora vamos a ver cómo calcular el área cubierta y el área no cubierta. El área cubierta es la **intersección** entre la capa de barrios y la capa de bomberos (con su buffer). Por otro lado, el área no cubierta es la **diferencia** entre la capa de barrios y la capa de bomberos (con su buffer)."
      ]
    },
    {
      "cell_type": "code",
      "execution_count": null,
      "metadata": {
        "id": "cVTClw4nr0Xg"
      },
      "outputs": [],
      "source": [
        "interseccion = geopandas.overlay(bomberos_gkba_buff, barrios_gkba, how = \"intersection\")"
      ]
    },
    {
      "cell_type": "code",
      "execution_count": null,
      "metadata": {
        "id": "3HmJq7cAr36I"
      },
      "outputs": [],
      "source": [
        "interseccion.plot();"
      ]
    },
    {
      "cell_type": "markdown",
      "metadata": {
        "id": "s233TejuwVPj"
      },
      "source": [
        "## Mapas interactivos\n",
        "En esta sección vamos a trabajar con mapas interactivos. Suelen ser buenos para armar aplicaciones y mostrar, a diferencia de los anteriores que son primordialmente analíticos.\n",
        "\n",
        "Acá se requieren otros paquetes"
      ]
    },
    {
      "cell_type": "code",
      "execution_count": null,
      "metadata": {
        "id": "Z8TglmORwmUi"
      },
      "outputs": [],
      "source": [
        "!pip3 install folium\n",
        "import folium\n",
        "from folium import Choropleth, Circle, Marker\n",
        "from folium.plugins import HeatMap, MarkerCluster\n"
      ]
    },
    {
      "cell_type": "code",
      "execution_count": null,
      "metadata": {
        "id": "6EKpsTdZwrNh"
      },
      "outputs": [],
      "source": [
        "# Create a map\n",
        "m_1 = folium.Map(location=[42.32,-71.0589], tiles='openstreetmap', zoom_start=10)\n",
        "\n",
        "# Display the map\n",
        "m_1\n"
      ]
    },
    {
      "cell_type": "markdown",
      "metadata": {
        "id": "uPpDo-guws8H"
      },
      "source": [
        "Varios argumentos pueden ayudar a customizar la apareiencia del mapa:\n",
        "\n",
        "La ubicación establece el centro inicial del mapa. Utilizamos la latitud (42,32 ° N) y longitud (-71,0589 ° E) de la ciudad de X.\n",
        "Tiles cambia el estilo del mapa; en este caso, elegimos el estilo OpenStreetMap. Si tienes curiosidad, puedes encontrar otras opciones listadas aquí.\n",
        "Zoom_start establece el nivel inicial de zoom del mapa, donde valores más altos acercan más el zoom al mapa.\n",
        "Tómese el tiempo ahora para explorar acercando y alejando el zoom, o arrastrando el mapa en diferentes direcciones.\n",
        "\n",
        "\n",
        "Los datos que vamos a utilizar se encuentran en el siguiente link: \n",
        "[Base de crímenes](https://drive.google.com/file/d/1AZaqiHmIA1J3zzjOdva5cf4Ao8tviCmN/view?usp=sharing)\n",
        "\n",
        "Ahora vamos a analizar nuevos datos, incorporandolos ya saben como:"
      ]
    },
    {
      "cell_type": "code",
      "execution_count": null,
      "metadata": {
        "id": "tjNieaZKx2fP"
      },
      "outputs": [],
      "source": [
        "import pandas as pd\n",
        "import numpy as np\n",
        "\n",
        "from google.colab import drive\n",
        "drive.mount('/content/drive')\n",
        "\n",
        "crimes = pd.read_csv(\"/content/drive/MyDrive/IMD/TP5/crime.csv\", encoding='latin-1')\n",
        "\n",
        "\n",
        "# Drop rows with missing locations\n",
        "crimes.dropna(subset=['Lat', 'Long', 'DISTRICT'], inplace=True)\n",
        "\n",
        "# Focus on major crimes in 2018\n",
        "crimes = crimes[crimes.OFFENSE_CODE_GROUP.isin([\n",
        "    'Larceny', 'Auto Theft', 'Robbery', 'Larceny From Motor Vehicle', 'Residential Burglary',\n",
        "    'Simple Assault', 'Harassment', 'Ballistics', 'Aggravated Assault', 'Other Burglary', \n",
        "    'Arson', 'Commercial Burglary', 'HOME INVASION', 'Homicide', 'Criminal Harassment', \n",
        "    'Manslaughter'])]\n",
        "crimes = crimes[crimes.YEAR>=2018]\n",
        "\n",
        "# Print the first five rows of the table\n",
        "crimes.head()\n"
      ]
    },
    {
      "cell_type": "markdown",
      "metadata": {
        "id": "sb86S01hyJud"
      },
      "source": [
        "El próximo paso consiste en graficar puntos:"
      ]
    },
    {
      "cell_type": "code",
      "execution_count": null,
      "metadata": {
        "id": "fLT3EwDsyMno"
      },
      "outputs": [],
      "source": [
        "daytime_robberies = crimes[((crimes.OFFENSE_CODE_GROUP == 'Robbery') & \\\n",
        "                            (crimes.HOUR.isin(range(9,18))))]\n",
        "# Create a map\n",
        "m_2 = folium.Map(location=[42.32,-71.0589], tiles='cartodbpositron', zoom_start=13)\n",
        "\n",
        "# Add points to the map\n",
        "for idx, row in daytime_robberies.iterrows():\n",
        "    Marker([row['Lat'], row['Long']]).add_to(m_2)\n",
        "\n",
        "# Display the map\n",
        "m_2\n"
      ]
    },
    {
      "cell_type": "markdown",
      "metadata": {
        "id": "M0E2BIUCySPC"
      },
      "source": [
        "Y también se pueden utilizar algoritmos de clusterización o agrupamiento por distancia (ya veremos en detalle que es esto en un TP específico:"
      ]
    },
    {
      "cell_type": "code",
      "execution_count": null,
      "metadata": {
        "id": "n_BmnIKOyZda"
      },
      "outputs": [],
      "source": [
        "import math\n",
        "# Create the map\n",
        "m_3 = folium.Map(location=[42.32,-71.0589], tiles='cartodbpositron', zoom_start=13)\n",
        "\n",
        "# Add points to the map\n",
        "mc = MarkerCluster()\n",
        "for idx, row in daytime_robberies.iterrows():\n",
        "    if not math.isnan(row['Long']) and not math.isnan(row['Lat']):\n",
        "        mc.add_child(Marker([row['Lat'], row['Long']]))\n",
        "m_3.add_child(mc)\n",
        "\n",
        "# Display the map\n",
        "m_3\n"
      ]
    },
    {
      "cell_type": "markdown",
      "metadata": {
        "id": "o_wPtbr7y4YI"
      },
      "source": [
        "También es posible realizar mapas de calor, muy utilizados en epidemiología:"
      ]
    },
    {
      "cell_type": "code",
      "execution_count": null,
      "metadata": {
        "id": "0i3EmeG2y8kf"
      },
      "outputs": [],
      "source": [
        "# Create a base map\n",
        "m_5 = folium.Map(location=[42.32,-71.0589], tiles='cartodbpositron', zoom_start=12)\n",
        "\n",
        "# Add a heatmap to the base map\n",
        "HeatMap(data=crimes[['Lat', 'Long']], radius=10).add_to(m_5)\n",
        "\n",
        "# Display the map\n",
        "m_5"
      ]
    },
    {
      "cell_type": "markdown",
      "metadata": {
        "id": "6W8idzrszH_f"
      },
      "source": [
        "# Ejercicio\n",
        "A este punto ya analizaron muchas formas diferentes de trabajar con mapas.\n",
        "La propuesta es que lleven estos a la Provincia de Buenos Aires. Si tienen que inventarse bases de datos con latitud y longitud de distintos eventos (por ejemplo casos de dengue) ya saben que chatGPT es una herramienta bastante creativa ;) "
      ]
    },
    {
      "cell_type": "code",
      "execution_count": null,
      "metadata": {
        "id": "nhNwcbUtza22"
      },
      "outputs": [],
      "source": [
        "# en sus manos"
      ]
    }
  ],
  "metadata": {
    "colab": {
      "provenance": []
    },
    "date": 1595352470.2833898,
    "download_nb": false,
    "filename": "maps.rst",
    "filename_with_path": "applications/maps",
    "kernelspec": {
      "display_name": "Python",
      "language": "python3",
      "name": "python3"
    },
    "language_info": {
      "codemirror_mode": {
        "name": "ipython",
        "version": 3
      },
      "file_extension": ".py",
      "mimetype": "text/x-python",
      "name": "python",
      "nbconvert_exporter": "python",
      "pygments_lexer": "ipython3",
      "version": "3.7.3"
    },
    "title": "Mapping in Python"
  },
  "nbformat": 4,
  "nbformat_minor": 0
}
