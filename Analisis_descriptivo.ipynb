{
  "nbformat": 4,
  "nbformat_minor": 0,
  "metadata": {
    "colab": {
      "provenance": []
    },
    "kernelspec": {
      "name": "python3",
      "display_name": "Python 3"
    },
    "language_info": {
      "name": "python"
    }
  },
  "cells": [
    {
      "cell_type": "markdown",
      "source": [
        "## Parte 1 - Instalando todo lo requerido\n",
        "\n",
        "\n",
        "---\n",
        "\n",
        "\n"
      ],
      "metadata": {
        "id": "k-11XTcmVXme"
      }
    },
    {
      "cell_type": "markdown",
      "source": [
        "Bienvenidos al primer análisis de datos de la materia. Vamos a introducirnos en lo básico del manejo de datos y análisis exploratorio-descriptivo. Pero primero, instalamos las librerias necesarias de python."
      ],
      "metadata": {
        "id": "_4wtn12_UXxL"
      }
    },
    {
      "cell_type": "code",
      "execution_count": null,
      "metadata": {
        "id": "bzpszjJ83IkI"
      },
      "outputs": [],
      "source": [
        "!pip install pandas\n",
        "!pip install matplotlib\n",
        "!pip install seaborn"
      ]
    },
    {
      "cell_type": "markdown",
      "source": [
        "Una vez instaladas, las importamos. Noten que a partir de ahora van a recibir nombres abreviados, cuando invoquemos a pandas nos referiremos al mismo por ejemplo como pd."
      ],
      "metadata": {
        "id": "cicqqlAsUnYk"
      }
    },
    {
      "cell_type": "code",
      "source": [
        "import pandas as pd\n",
        "import matplotlib.pyplot as plt\n",
        "import seaborn as sns\n",
        "import numpy as np"
      ],
      "metadata": {
        "id": "relQTiSY3PhR"
      },
      "execution_count": 1,
      "outputs": []
    },
    {
      "cell_type": "markdown",
      "source": [
        "Este punto es crucial, dado que estamos trabajando en drive, tenemos que vincular a este notebook con el mismo. Una vez que ejecutemos el comando nos va a pedir autorización para entrar. Cuando le demos el ok, \"drive\" aparecerá como una carpeta, arriba a la izquierda."
      ],
      "metadata": {
        "id": "HG_b7225UxXd"
      }
    },
    {
      "cell_type": "code",
      "source": [
        "# En este punto vvin\n",
        "from google.colab import drive\n",
        "drive.mount('/content/drive')"
      ],
      "metadata": {
        "colab": {
          "base_uri": "https://localhost:8080/"
        },
        "id": "hNEmLO4x3o0X",
        "outputId": "af7e7e5d-22a1-4423-eb16-9302be62221b"
      },
      "execution_count": 2,
      "outputs": [
        {
          "output_type": "stream",
          "name": "stdout",
          "text": [
            "Mounted at /content/drive\n"
          ]
        }
      ]
    },
    {
      "cell_type": "markdown",
      "source": [
        "En dicha carpeta vamos a poder buscar el archivo que nos interesa, en este caso \"entrenamiento_inicial.csv\". Si lo dejaron donde yo, van a poder correr el siguiente comando y leerlo sin problema. En caso contrario deben darle boton derecho y copiar la dirección del archivo."
      ],
      "metadata": {
        "id": "OjZHQpOGVBBS"
      }
    },
    {
      "cell_type": "code",
      "source": [
        "# Cargar los datos del archivo Excel\n",
        "df = pd.read_csv(\"/content/drive/MyDrive/IMD/entrenamiento_inicial.csv\")"
      ],
      "metadata": {
        "id": "jcDhEdeG4Ioe"
      },
      "execution_count": 5,
      "outputs": []
    },
    {
      "cell_type": "markdown",
      "source": [
        "Si fueron bien hasta acá deberían tener el archivo cargado y sin ningún error. Ahora pueden imprimir las primeras lineas para verlo."
      ],
      "metadata": {
        "id": "Zc1gu46rVN5P"
      }
    },
    {
      "cell_type": "markdown",
      "source": [
        "## Parte 2 - Mirando los datos\n",
        "En este punto vamos a solamente mirar los datos, intentar entender como estan organizados, que variables hay en juego, y que tipo de valores corresponde a cada una."
      ],
      "metadata": {
        "id": "aA9UCnY0VvD2"
      }
    },
    {
      "cell_type": "code",
      "source": [
        "# Mostrar los primeros 5 registros\n",
        "print(df.head())"
      ],
      "metadata": {
        "colab": {
          "base_uri": "https://localhost:8080/"
        },
        "id": "4snpRkiX4bcO",
        "outputId": "27368f1e-f22f-4ded-efdf-b921f84acb57"
      },
      "execution_count": 6,
      "outputs": [
        {
          "output_type": "stream",
          "name": "stdout",
          "text": [
            "   Id Pasajeros  Supervivencia  Pclass       Sexo  Edad  Hermanos  Hijos  \\\n",
            "0             1              0       3  masculino    22         1      0   \n",
            "1             2              1       1   femenino    38         1      0   \n",
            "2             3              1       3   femenino    26         0      0   \n",
            "3             4              1       1   femenino    35         1      0   \n",
            "4             5              0       3  masculino    35         0      0   \n",
            "\n",
            "  Embarco  \n",
            "0       S  \n",
            "1       C  \n",
            "2       S  \n",
            "3       S  \n",
            "4       S  \n"
          ]
        }
      ]
    },
    {
      "cell_type": "code",
      "source": [
        "# verificar los primeros cinco registros del DataFrame\n",
        "print(df.head())"
      ],
      "metadata": {
        "colab": {
          "base_uri": "https://localhost:8080/"
        },
        "id": "qh2Ds6qf5KRY",
        "outputId": "7f560649-236a-462e-dbcb-be034026aa41"
      },
      "execution_count": 8,
      "outputs": [
        {
          "output_type": "stream",
          "name": "stdout",
          "text": [
            "   Id Pasajeros  Supervivencia  Pclass       Sexo  Edad  Hermanos  Hijos  \\\n",
            "0             1              0       3  masculino    22         1      0   \n",
            "1             2              1       1   femenino    38         1      0   \n",
            "2             3              1       3   femenino    26         0      0   \n",
            "3             4              1       1   femenino    35         1      0   \n",
            "4             5              0       3  masculino    35         0      0   \n",
            "\n",
            "  Embarco  \n",
            "0       S  \n",
            "1       C  \n",
            "2       S  \n",
            "3       S  \n",
            "4       S  \n"
          ]
        }
      ]
    },
    {
      "cell_type": "code",
      "source": [
        "# verificar el número de filas y columnas del DataFrame\n",
        "print(df.shape)"
      ],
      "metadata": {
        "id": "TXi0r5y45XWf",
        "colab": {
          "base_uri": "https://localhost:8080/"
        },
        "outputId": "cde6d22f-829f-4fa1-d39c-f5091fe9937a"
      },
      "execution_count": 9,
      "outputs": [
        {
          "output_type": "stream",
          "name": "stdout",
          "text": [
            "(689, 8)\n"
          ]
        }
      ]
    },
    {
      "cell_type": "code",
      "source": [
        "# obtener información sobre las columnas del DataFrame\n",
        "print(df.info())"
      ],
      "metadata": {
        "colab": {
          "base_uri": "https://localhost:8080/"
        },
        "id": "RIayaRUbV5IG",
        "outputId": "f29884a5-7d8e-4b7a-c3f0-8b445e31ebe1"
      },
      "execution_count": 10,
      "outputs": [
        {
          "output_type": "stream",
          "name": "stdout",
          "text": [
            "<class 'pandas.core.frame.DataFrame'>\n",
            "RangeIndex: 689 entries, 0 to 688\n",
            "Data columns (total 8 columns):\n",
            " #   Column         Non-Null Count  Dtype \n",
            "---  ------         --------------  ----- \n",
            " 0   Id Pasajeros   689 non-null    int64 \n",
            " 1   Supervivencia  689 non-null    int64 \n",
            " 2   Pclass         689 non-null    int64 \n",
            " 3   Sexo           689 non-null    object\n",
            " 4   Edad           689 non-null    int64 \n",
            " 5   Hermanos       689 non-null    int64 \n",
            " 6   Hijos          689 non-null    int64 \n",
            " 7   Embarco        687 non-null    object\n",
            "dtypes: int64(6), object(2)\n",
            "memory usage: 43.2+ KB\n",
            "None\n"
          ]
        }
      ]
    },
    {
      "cell_type": "code",
      "source": [
        "# obtener estadísticas descriptivas para las columnas numéricas\n",
        "print(df.describe())"
      ],
      "metadata": {
        "colab": {
          "base_uri": "https://localhost:8080/"
        },
        "id": "eFO02-PIV6dF",
        "outputId": "a013fbfa-d92b-416b-ca74-736277fb3525"
      },
      "execution_count": 11,
      "outputs": [
        {
          "output_type": "stream",
          "name": "stdout",
          "text": [
            "       Id Pasajeros  Supervivencia      Pclass        Edad    Hermanos  \\\n",
            "count    689.000000     689.000000  689.000000  689.000000  689.000000   \n",
            "mean     449.896952       0.409289    2.223512   29.847605    0.518142   \n",
            "std      257.950356       0.492060    0.841838   14.317669    0.938535   \n",
            "min        1.000000       0.000000    1.000000    1.000000    0.000000   \n",
            "25%      227.000000       0.000000    1.000000   21.000000    0.000000   \n",
            "50%      447.000000       0.000000    2.000000   28.000000    0.000000   \n",
            "75%      676.000000       1.000000    3.000000   38.000000    1.000000   \n",
            "max      891.000000       1.000000    3.000000   80.000000    5.000000   \n",
            "\n",
            "            Hijos  \n",
            "count  689.000000  \n",
            "mean     0.428157  \n",
            "std      0.856485  \n",
            "min      0.000000  \n",
            "25%      0.000000  \n",
            "50%      0.000000  \n",
            "75%      1.000000  \n",
            "max      6.000000  \n"
          ]
        }
      ]
    },
    {
      "cell_type": "markdown",
      "source": [
        "¿Todos los valores tienen sentido? ¿Es lógico hacer un promedio del ID de los pasajeros? ¿Y de la Pclass?"
      ],
      "metadata": {
        "id": "BbnNH__CX2Gi"
      }
    },
    {
      "cell_type": "markdown",
      "source": [
        "## Parte 3 - Valores nulos\n",
        "Esta parte es sumamente importante, y si no es bien tratada puede derivar en errores en pasos posteriores. Consiste  en analizar los valroes nulos o faltantes y tomar una decisión en torno a su tratamiento."
      ],
      "metadata": {
        "id": "gc9Xv5rWWXR7"
      }
    },
    {
      "cell_type": "code",
      "source": [
        "# verificar si hay valores nulos o faltantes en el DataFrame\n",
        "print(df.isnull().sum())"
      ],
      "metadata": {
        "colab": {
          "base_uri": "https://localhost:8080/"
        },
        "id": "ET-temLyV771",
        "outputId": "5cb8535d-a1eb-4702-e1ee-df529417dde8"
      },
      "execution_count": 12,
      "outputs": [
        {
          "output_type": "stream",
          "name": "stdout",
          "text": [
            "Id Pasajeros     0\n",
            "Supervivencia    0\n",
            "Pclass           0\n",
            "Sexo             0\n",
            "Edad             0\n",
            "Hermanos         0\n",
            "Hijos            0\n",
            "Embarco          2\n",
            "dtype: int64\n"
          ]
        }
      ]
    },
    {
      "cell_type": "markdown",
      "source": [
        "Vemos que \"embarco\" tiene dos valores nulos. A continuación se describen dos opciones para eliminarlos. "
      ],
      "metadata": {
        "id": "CxMY5sm0W5v5"
      }
    },
    {
      "cell_type": "code",
      "source": [
        "# eliminar todas las filas que contienen valores nulos (dejamos comentado el código para que no se ejecute)\n",
        "#df = df.dropna()\n",
        "\n",
        "# eliminar solo las filas que contienen valores nulos en una columna específica\n",
        "df = df.dropna(subset=['Embarco'])\n"
      ],
      "metadata": {
        "id": "19XLbsbMW1L2"
      },
      "execution_count": 13,
      "outputs": []
    },
    {
      "cell_type": "markdown",
      "source": [
        "Verificamos ahora si se borraron"
      ],
      "metadata": {
        "id": "TaBnJq-4Xbf4"
      }
    },
    {
      "cell_type": "code",
      "source": [
        "# verificar si hay valores nulos o faltantes en el DataFrame\n",
        "print(df.isnull().sum())"
      ],
      "metadata": {
        "colab": {
          "base_uri": "https://localhost:8080/"
        },
        "id": "uuoCh9HkXdq9",
        "outputId": "97de700e-8a00-43b4-9507-88a40cda37d2"
      },
      "execution_count": 14,
      "outputs": [
        {
          "output_type": "stream",
          "name": "stdout",
          "text": [
            "Id Pasajeros     0\n",
            "Supervivencia    0\n",
            "Pclass           0\n",
            "Sexo             0\n",
            "Edad             0\n",
            "Hermanos         0\n",
            "Hijos            0\n",
            "Embarco          0\n",
            "dtype: int64\n"
          ]
        }
      ]
    },
    {
      "cell_type": "markdown",
      "source": [
        "Y vemos como afecta a la cantidad de filas"
      ],
      "metadata": {
        "id": "Sh1nYZSxXfDA"
      }
    },
    {
      "cell_type": "code",
      "source": [
        "# verificar el número de filas y columnas del DataFrame\n",
        "print(df.shape)"
      ],
      "metadata": {
        "colab": {
          "base_uri": "https://localhost:8080/"
        },
        "id": "ToXFO3IOXiE4",
        "outputId": "3af684a4-d77f-4fb4-b040-7701dc180987"
      },
      "execution_count": 15,
      "outputs": [
        {
          "output_type": "stream",
          "name": "stdout",
          "text": [
            "(687, 8)\n"
          ]
        }
      ]
    },
    {
      "cell_type": "markdown",
      "source": [
        "Nótese que la decisión de eliminar toda la fila afectará también a las otras variables, que si tenian valores, por lo tanto en este punto debemos re-analizar la base:"
      ],
      "metadata": {
        "id": "XKV7LCkFXoVn"
      }
    },
    {
      "cell_type": "code",
      "source": [
        "# obtener estadísticas descriptivas para las columnas numéricas\n",
        "print(df.describe())"
      ],
      "metadata": {
        "colab": {
          "base_uri": "https://localhost:8080/"
        },
        "id": "Bcc-WCpzXyL5",
        "outputId": "f4f9d287-85c8-496e-a205-e2178121ca2a"
      },
      "execution_count": 16,
      "outputs": [
        {
          "output_type": "stream",
          "name": "stdout",
          "text": [
            "       Id Pasajeros  Supervivencia      Pclass        Edad    Hermanos  \\\n",
            "count    687.000000     687.000000  687.000000  687.000000  687.000000   \n",
            "mean     449.908297       0.407569    2.227074   29.788937    0.519651   \n",
            "std      257.492583       0.491740    0.840464   14.282367    0.939484   \n",
            "min        1.000000       0.000000    1.000000    1.000000    0.000000   \n",
            "25%      228.000000       0.000000    1.000000   21.000000    0.000000   \n",
            "50%      447.000000       0.000000    2.000000   28.000000    0.000000   \n",
            "75%      675.000000       1.000000    3.000000   38.000000    1.000000   \n",
            "max      891.000000       1.000000    3.000000   80.000000    5.000000   \n",
            "\n",
            "            Hijos  \n",
            "count  687.000000  \n",
            "mean     0.429403  \n",
            "std      0.857420  \n",
            "min      0.000000  \n",
            "25%      0.000000  \n",
            "50%      0.000000  \n",
            "75%      1.000000  \n",
            "max      6.000000  \n"
          ]
        }
      ]
    },
    {
      "cell_type": "markdown",
      "source": [
        "¿Algo cambió?"
      ],
      "metadata": {
        "id": "DMoMeDspYGFw"
      }
    },
    {
      "cell_type": "markdown",
      "source": [
        "Otra opción sería modificar los valores por otros específicos"
      ],
      "metadata": {
        "id": "RrW3RjJKXH1B"
      }
    },
    {
      "cell_type": "code",
      "source": [
        "#Dejamos comentado el código para que no se ejecute\n",
        "\n",
        "# reemplazar los valores nulos con un valor específico\n",
        "# df = df.fillna(valor_especifico)\n",
        "\n",
        "# reemplazar los valores nulos con el promedio de una columna específica\n",
        "# promedio = df['nombre_columna'].mean()\n",
        "# df = df.fillna(promedio)\n"
      ],
      "metadata": {
        "id": "QVxpcTO8XRPJ"
      },
      "execution_count": null,
      "outputs": []
    },
    {
      "cell_type": "markdown",
      "source": [
        "## Parte 4 - Análisis descriptivo univariado"
      ],
      "metadata": {
        "id": "qULXoUFqYI4G"
      }
    },
    {
      "cell_type": "code",
      "source": [
        "# contar el número de casos en cada valor único de la columna \"Supervivencia\"\n",
        "count = df['Supervivencia'].value_counts()\n",
        "\n",
        "# crear un gráfico de torta con el número de casos en cada valor único de la columna \"Supervivencia\"\n",
        "plt.pie(count, labels=count.index, autopct='%1.1f%%')\n",
        "plt.title('Supervivencia')\n",
        "plt.show()"
      ],
      "metadata": {
        "colab": {
          "base_uri": "https://localhost:8080/",
          "height": 264
        },
        "id": "9_Q9uA9CYUN0",
        "outputId": "d167fdb5-87f8-45ba-b303-31f64257c242"
      },
      "execution_count": 17,
      "outputs": [
        {
          "output_type": "display_data",
          "data": {
            "text/plain": [
              "<Figure size 432x288 with 1 Axes>"
            ],
            "image/png": "[encoded data removed]"
          },
          "metadata": {}
        }
      ]
    },
    {
      "cell_type": "code",
      "source": [
        "# contar el número de casos en cada valor único de la columna \"Supervivencia\"\n",
        "count = df['Pclass'].value_counts()\n",
        "\n",
        "# crear un gráfico de torta con el número de casos en cada valor único de la columna \"Supervivencia\"\n",
        "plt.pie(count, labels=count.index, autopct='%1.1f%%')\n",
        "plt.title('Pclass')\n",
        "plt.show()"
      ],
      "metadata": {
        "colab": {
          "base_uri": "https://localhost:8080/",
          "height": 264
        },
        "id": "ch3Vv5AKYnaz",
        "outputId": "2a2c378b-c605-4e88-c881-fc3240500a7e"
      },
      "execution_count": 18,
      "outputs": [
        {
          "output_type": "display_data",
          "data": {
            "text/plain": [
              "<Figure size 432x288 with 1 Axes>"
            ],
            "image/png": "[encoded data removed]"
          },
          "metadata": {}
        }
      ]
    },
    {
      "cell_type": "code",
      "source": [
        "# crear un histograma de la columna \"Hermanos\"\n",
        "plt.hist(df['Hermanos'], bins=20)\n",
        "plt.xlabel('Hermanos')\n",
        "plt.ylabel('Frecuencia')\n",
        "plt.title('Histograma de Hermanos')\n",
        "plt.show()"
      ],
      "metadata": {
        "colab": {
          "base_uri": "https://localhost:8080/",
          "height": 295
        },
        "id": "uJzOVsceYsON",
        "outputId": "e0b390ab-fd11-4696-ea08-7099e18e4c47"
      },
      "execution_count": 24,
      "outputs": [
        {
          "output_type": "display_data",
          "data": {
            "text/plain": [
              "<Figure size 432x288 with 1 Axes>"
            ],
            "image/png": "[encoded data removed]"
          },
          "metadata": {
            "needs_background": "light"
          }
        }
      ]
    },
    {
      "cell_type": "code",
      "source": [
        "# crear un histograma de la columna \"Hijos\"\n",
        "plt.hist(df['Hijos'], bins=20)\n",
        "plt.xlabel('Hijos')\n",
        "plt.ylabel('Frecuencia')\n",
        "plt.title('Histograma de Hijos')\n",
        "plt.show()"
      ],
      "metadata": {
        "colab": {
          "base_uri": "https://localhost:8080/",
          "height": 295
        },
        "id": "rJ0avj_aY6Qe",
        "outputId": "868e0062-7a92-4b78-8810-0ff19fa5f3a5"
      },
      "execution_count": 25,
      "outputs": [
        {
          "output_type": "display_data",
          "data": {
            "text/plain": [
              "<Figure size 432x288 with 1 Axes>"
            ],
            "image/png": "[encoded data removed]"
          },
          "metadata": {
            "needs_background": "light"
          }
        }
      ]
    },
    {
      "cell_type": "code",
      "source": [
        "# crear un histograma de la columna \"edad\"\n",
        "plt.hist(df['Edad'], bins=20)\n",
        "plt.xlabel('Edad')\n",
        "plt.ylabel('Frecuencia')\n",
        "plt.title('Histograma de edad')\n",
        "plt.show()"
      ],
      "metadata": {
        "colab": {
          "base_uri": "https://localhost:8080/",
          "height": 295
        },
        "id": "1fBKF0cZY_ki",
        "outputId": "d6d65f22-72e1-439e-8146-c37e7408ec8e"
      },
      "execution_count": 21,
      "outputs": [
        {
          "output_type": "display_data",
          "data": {
            "text/plain": [
              "<Figure size 432x288 with 1 Axes>"
            ],
            "image/png": "[encoded data removed]"
          },
          "metadata": {
            "needs_background": "light"
          }
        }
      ]
    },
    {
      "cell_type": "markdown",
      "source": [
        "\n",
        "Todo parecería ir bien ... Veamos que pasa con la variable edad con mayor detalle\n",
        "\n",
        "\n"
      ],
      "metadata": {
        "id": "3PeB9bCEZiwH"
      }
    },
    {
      "cell_type": "code",
      "source": [
        "import seaborn as sns\n",
        "\n",
        "# crear el box plot de la columna \"edad\" con marcadores de outliers\n",
        "sns.boxplot(x=df['Edad'], showfliers=True)\n",
        "plt.title('Box plot de edad')\n",
        "plt.show()"
      ],
      "metadata": {
        "colab": {
          "base_uri": "https://localhost:8080/",
          "height": 295
        },
        "id": "FG4TWg1uZvZ0",
        "outputId": "2b24695a-be40-46bb-9e43-3aa78db1e0d7"
      },
      "execution_count": 28,
      "outputs": [
        {
          "output_type": "display_data",
          "data": {
            "text/plain": [
              "<Figure size 432x288 with 1 Axes>"
            ],
            "image/png": "[encoded data removed]"
          },
          "metadata": {
            "needs_background": "light"
          }
        }
      ]
    },
    {
      "cell_type": "markdown",
      "source": [
        "Ahora si vemos algo un poco raro, hay valores que quedan por fuera del boxplot. Recuerdése el criterio para generarlo de las clases de estadística."
      ],
      "metadata": {
        "id": "J0o5ek_PaPkr"
      }
    },
    {
      "cell_type": "code",
      "source": [
        "# calcular los cuartiles y el rango intercuartil de la columna \"edad\"\n",
        "edad_q1 = df['Edad'].quantile(0.25)\n",
        "edad_q3 = df['Edad'].quantile(0.75)\n",
        "edad_iqr = edad_q3 - edad_q1\n",
        "\n",
        "# filtrar los valores que se encuentran más allá del rango intercuartil\n",
        "outliers = df[(df['Edad'] < edad_q1 - 1.5 * edad_iqr) | (df['Edad'] > edad_q3 + 1.5 * edad_iqr)]\n",
        "print(outliers)\n"
      ],
      "metadata": {
        "colab": {
          "base_uri": "https://localhost:8080/"
        },
        "id": "iAUHp0JKaNnH",
        "outputId": "5e950d0c-7344-44e6-e6c0-06ca1529f77b"
      },
      "execution_count": 29,
      "outputs": [
        {
          "output_type": "stream",
          "name": "stdout",
          "text": [
            "     Id Pasajeros  Supervivencia  Pclass       Sexo  Edad  Hermanos  Hijos  \\\n",
            "25             34              0       2  masculino    66         0      0   \n",
            "40             55              0       1  masculino    65         0      1   \n",
            "72             97              0       1  masculino    71         0      0   \n",
            "214           281              0       3  masculino    65         0      0   \n",
            "337           439              0       1  masculino    64         1      4   \n",
            "352           457              0       1  masculino    65         0      0   \n",
            "378           494              0       1  masculino    71         0      0   \n",
            "417           546              0       1  masculino    64         0      0   \n",
            "482           631              1       1  masculino    80         0      0   \n",
            "514           673              0       2  masculino    70         0      0   \n",
            "573           746              0       1  masculino    70         1      1   \n",
            "654           852              0       3  masculino    74         0      0   \n",
            "\n",
            "    Embarco  \n",
            "25        S  \n",
            "40        C  \n",
            "72        C  \n",
            "214       Q  \n",
            "337       S  \n",
            "352       S  \n",
            "378       C  \n",
            "417       S  \n",
            "482       S  \n",
            "514       S  \n",
            "573       S  \n",
            "654       S  \n"
          ]
        }
      ]
    },
    {
      "cell_type": "markdown",
      "source": [
        "Bueno, no hay muchos en el barco, porque no se incorporaba gente mayor a 60 años."
      ],
      "metadata": {
        "id": "kbxSIku6ajk7"
      }
    },
    {
      "cell_type": "code",
      "source": [
        "# seleccionar todas las filas que tienen un valor mayor a 60 en la columna \"edad\"\n",
        "mayores_de_60 = df.loc[df['Edad'] > 60]\n",
        "\n",
        "# imprimir el resultado\n",
        "print(mayores_de_60)"
      ],
      "metadata": {
        "colab": {
          "base_uri": "https://localhost:8080/"
        },
        "id": "eI19UbzVbA9i",
        "outputId": "fbe68b02-8f03-47d7-fa0d-53c4533170b1"
      },
      "execution_count": 30,
      "outputs": [
        {
          "output_type": "stream",
          "name": "stdout",
          "text": [
            "     Id Pasajeros  Supervivencia  Pclass       Sexo  Edad  Hermanos  Hijos  \\\n",
            "25             34              0       2  masculino    66         0      0   \n",
            "40             55              0       1  masculino    65         0      1   \n",
            "72             97              0       1  masculino    71         0      0   \n",
            "127           171              0       1  masculino    61         0      0   \n",
            "192           253              0       1  masculino    62         0      0   \n",
            "210           276              1       1   femenino    63         1      0   \n",
            "214           281              0       3  masculino    65         0      0   \n",
            "249           327              0       3  masculino    61         0      0   \n",
            "337           439              0       1  masculino    64         1      4   \n",
            "352           457              0       1  masculino    65         0      0   \n",
            "370           484              1       3   femenino    63         0      0   \n",
            "378           494              0       1  masculino    71         0      0   \n",
            "417           546              0       1  masculino    64         0      0   \n",
            "425           556              0       1  masculino    62         0      0   \n",
            "435           571              1       2  masculino    62         0      0   \n",
            "478           626              0       1  masculino    61         0      0   \n",
            "482           631              1       1  masculino    80         0      0   \n",
            "514           673              0       2  masculino    70         0      0   \n",
            "573           746              0       1  masculino    70         1      1   \n",
            "654           852              0       3  masculino    74         0      0   \n",
            "\n",
            "    Embarco  \n",
            "25        S  \n",
            "40        C  \n",
            "72        C  \n",
            "127       S  \n",
            "192       S  \n",
            "210       S  \n",
            "214       Q  \n",
            "249       S  \n",
            "337       S  \n",
            "352       S  \n",
            "370       S  \n",
            "378       C  \n",
            "417       S  \n",
            "425       S  \n",
            "435       S  \n",
            "478       S  \n",
            "482       S  \n",
            "514       S  \n",
            "573       S  \n",
            "654       S  \n"
          ]
        }
      ]
    },
    {
      "cell_type": "markdown",
      "source": [
        "Bien, bueno, entendemos que corresponde a un error posiblemente. Como no estamos seguros, decidimos sacarlos del análisis. Pero como siempre hacemos cuando modificamos una base, nos quedamos con la versión anterior:"
      ],
      "metadata": {
        "id": "nTVpNGzubMp8"
      }
    },
    {
      "cell_type": "code",
      "source": [
        "# eliminar todas las filas que tienen un valor mayor a 60 en la columna \"edad\"\n",
        "df_filtrado = df.drop(df[df['Edad'] > 60].index)\n",
        "\n",
        "# imprimir el DataFrame resultante\n",
        "print(df_filtrado)\n"
      ],
      "metadata": {
        "colab": {
          "base_uri": "https://localhost:8080/"
        },
        "id": "6h0Gd1W8bS3X",
        "outputId": "24e8c2a9-10d4-4e00-c424-3e9bc63f9a04"
      },
      "execution_count": 32,
      "outputs": [
        {
          "output_type": "stream",
          "name": "stdout",
          "text": [
            "     Id Pasajeros  Supervivencia  Pclass       Sexo  Edad  Hermanos  Hijos  \\\n",
            "0               1              0       3  masculino    22         1      0   \n",
            "1               2              1       1   femenino    38         1      0   \n",
            "2               3              1       3   femenino    26         0      0   \n",
            "3               4              1       1   femenino    35         1      0   \n",
            "4               5              0       3  masculino    35         0      0   \n",
            "..            ...            ...     ...        ...   ...       ...    ...   \n",
            "684           886              0       3   femenino    39         0      5   \n",
            "685           887              0       2  masculino    27         0      0   \n",
            "686           888              1       1   femenino    19         0      0   \n",
            "687           890              1       1  masculino    26         0      0   \n",
            "688           891              0       3  masculino    32         0      0   \n",
            "\n",
            "    Embarco  \n",
            "0         S  \n",
            "1         C  \n",
            "2         S  \n",
            "3         S  \n",
            "4         S  \n",
            "..      ...  \n",
            "684       Q  \n",
            "685       S  \n",
            "686       S  \n",
            "687       C  \n",
            "688       Q  \n",
            "\n",
            "[667 rows x 8 columns]\n"
          ]
        }
      ]
    },
    {
      "cell_type": "markdown",
      "source": [
        "## Parte 5: Análisis descriptivo bivariado"
      ],
      "metadata": {
        "id": "LNEgMeUlbkqY"
      }
    },
    {
      "cell_type": "markdown",
      "source": [
        "Podemos ver primero la cantidad de hermanos en promedio en función de la edad. Vemos que a menor edad más hermanos, posiblemente porque viajen en familia. Se muestra el error estándar.\n"
      ],
      "metadata": {
        "id": "n6qQV-SOc2ak"
      }
    },
    {
      "cell_type": "markdown",
      "source": [],
      "metadata": {
        "id": "UzizuaAeddah"
      }
    },
    {
      "cell_type": "code",
      "source": [
        "# agrupar los datos por edad y calcular la media y el error estándar de \"hermanos\" para cada grupo\n",
        "df_grouped = df.groupby('Edad')['Hermanos'].agg(['mean', 'sem']).reset_index()\n",
        "\n",
        "# crear un gráfico de dispersión que muestre la cantidad promedio de hermanos por edad y el error estándar\n",
        "plt.errorbar(df_grouped['Edad'], df_grouped['mean'], yerr=df_grouped['sem'], fmt='o', color='red')\n",
        "\n",
        "# agregar etiquetas y título al gráfico\n",
        "plt.xlabel(\"Edad\")\n",
        "plt.ylabel(\"Número de hermanos\")\n",
        "plt.title(\"Cantidad promedio de hermanos por edad\")\n",
        "\n",
        "# mostrar el gráfico\n",
        "plt.show()"
      ],
      "metadata": {
        "colab": {
          "base_uri": "https://localhost:8080/",
          "height": 295
        },
        "id": "lShJFvsObfc4",
        "outputId": "6d73b61a-d391-43de-f4cf-abedda1908d9"
      },
      "execution_count": 39,
      "outputs": [
        {
          "output_type": "display_data",
          "data": {
            "text/plain": [
              "<Figure size 432x288 with 1 Axes>"
            ],
            "image/png": "[encoded data removed]"
          },
          "metadata": {
            "needs_background": "light"
          }
        }
      ]
    },
    {
      "cell_type": "markdown",
      "source": [
        "Ahora vamos a ver la cantidad de hijos también por edad"
      ],
      "metadata": {
        "id": "l0oPg6cTeSrR"
      }
    },
    {
      "cell_type": "code",
      "source": [
        "# crear un gráfico de dispersión que muestre la cantidad de hijos versus edad\n",
        "plt.scatter(df['Edad'], df['Hijos'], alpha=0.2)\n",
        "\n",
        "# agregar etiquetas y título al gráfico\n",
        "plt.xlabel(\"Edad\")\n",
        "plt.ylabel(\"Cantidad de hijos\")\n",
        "plt.title(\"Relación entre la cantidad de hijos y la edad\")\n",
        "\n",
        "# mostrar el gráfico\n",
        "plt.show()"
      ],
      "metadata": {
        "colab": {
          "base_uri": "https://localhost:8080/",
          "height": 295
        },
        "id": "7bTIY-qieV0x",
        "outputId": "b2f1d4a3-83ce-4148-eaec-0d94b2a74615"
      },
      "execution_count": 40,
      "outputs": [
        {
          "output_type": "display_data",
          "data": {
            "text/plain": [
              "<Figure size 432x288 with 1 Axes>"
            ],
            "image/png": "[encoded data removed]"
          },
          "metadata": {
            "needs_background": "light"
          }
        }
      ]
    },
    {
      "cell_type": "markdown",
      "source": [
        "Llamativo, vemos más hijos en las edades medias, de 30 a 60, pero también vemos personas de 0 a 10 años con hijos, y varias. Eso es sin duda algo extraño. Tiene que ser un error."
      ],
      "metadata": {
        "id": "s81Yq4k6ehiC"
      }
    },
    {
      "cell_type": "markdown",
      "source": [
        "Acá podemos identificar a aquellos casos con esta carácteristica, menores de 15 y con algún hijo."
      ],
      "metadata": {
        "id": "UhOF_h18fN43"
      }
    },
    {
      "cell_type": "code",
      "source": [
        "print(df[(df['Edad'] < 15) & (df['Hijos'] != 0)])"
      ],
      "metadata": {
        "colab": {
          "base_uri": "https://localhost:8080/"
        },
        "id": "9J4OHUCwfVx-",
        "outputId": "ed048d93-cfd9-48c0-a9c4-52bb8c066e64"
      },
      "execution_count": 42,
      "outputs": [
        {
          "output_type": "stream",
          "name": "stdout",
          "text": [
            "     Id Pasajeros  Supervivencia  Pclass       Sexo  Edad  Hermanos  Hijos  \\\n",
            "6               8              0       3  masculino     2         3      1   \n",
            "9              11              1       3   femenino     4         1      1   \n",
            "15             17              0       3  masculino     2         4      1   \n",
            "21             25              0       3   femenino     8         3      1   \n",
            "33             44              1       2   femenino     3         1      2   \n",
            "..            ...            ...     ...        ...   ...       ...    ...   \n",
            "637           825              0       3  masculino     2         4      1   \n",
            "638           828              1       2  masculino     1         0      2   \n",
            "653           851              0       3  masculino     4         4      2   \n",
            "655           853              0       3   femenino     9         1      1   \n",
            "669           870              1       3  masculino     4         1      1   \n",
            "\n",
            "    Embarco  \n",
            "6         S  \n",
            "9         S  \n",
            "15        Q  \n",
            "21        S  \n",
            "33        C  \n",
            "..      ...  \n",
            "637       S  \n",
            "638       C  \n",
            "653       S  \n",
            "655       C  \n",
            "669       S  \n",
            "\n",
            "[63 rows x 8 columns]\n"
          ]
        }
      ]
    },
    {
      "cell_type": "code",
      "source": [
        "df = df.drop(df[(df['Edad'] < 15) & (df['Hijos'] != 0)].index)"
      ],
      "metadata": {
        "id": "iqb3cwr2fgrN"
      },
      "execution_count": 43,
      "outputs": []
    },
    {
      "cell_type": "markdown",
      "source": [
        "Graficamos de nuevo para ver el impacto"
      ],
      "metadata": {
        "id": "yO64aSYqfq-1"
      }
    },
    {
      "cell_type": "code",
      "source": [
        "# crear un gráfico de dispersión que muestre la cantidad de hijos versus edad\n",
        "plt.scatter(df['Edad'], df['Hijos'], alpha=0.2)\n",
        "\n",
        "# agregar etiquetas y título al gráfico\n",
        "plt.xlabel(\"Edad\")\n",
        "plt.ylabel(\"Cantidad de hijos\")\n",
        "plt.title(\"Relación entre la cantidad de hijos y la edad\")\n",
        "\n",
        "# mostrar el gráfico\n",
        "plt.show()"
      ],
      "metadata": {
        "colab": {
          "base_uri": "https://localhost:8080/",
          "height": 295
        },
        "id": "eRCozJaffmsl",
        "outputId": "1062660e-2183-4b3f-ff22-ef16fa6dd669"
      },
      "execution_count": 44,
      "outputs": [
        {
          "output_type": "display_data",
          "data": {
            "text/plain": [
              "<Figure size 432x288 with 1 Axes>"
            ],
            "image/png": "[encoded data removed]"
          },
          "metadata": {
            "needs_background": "light"
          }
        }
      ]
    },
    {
      "cell_type": "code",
      "source": [
        "\n",
        "# obtener el promedio y la desviación estándar de edad por tipo de embarque\n",
        "promedio_edad_por_embarque = df.groupby('Embarco')['Edad'].mean()\n",
        "std_edad_por_embarque = df.groupby('Embarco')['Edad'].std()\n",
        "\n",
        "# graficar el promedio de edad por tipo de embarque con barras de error\n",
        "plt.errorbar(promedio_edad_por_embarque.index, promedio_edad_por_embarque.values, yerr=std_edad_por_embarque.values, fmt='o')\n",
        "plt.xlabel('Tipo de embarque')\n",
        "plt.ylabel('Promedio de edad')\n",
        "plt.title('Promedio de edad por tipo de embarque con barras de error')\n",
        "plt.show()"
      ],
      "metadata": {
        "colab": {
          "base_uri": "https://localhost:8080/",
          "height": 295
        },
        "id": "TNqWYOAVf_Ms",
        "outputId": "6e717e09-9f1f-413f-8738-d2c552d59b77"
      },
      "execution_count": 48,
      "outputs": [
        {
          "output_type": "display_data",
          "data": {
            "text/plain": [
              "<Figure size 432x288 with 1 Axes>"
            ],
            "image/png": "[encoded data removed]"
          },
          "metadata": {
            "needs_background": "light"
          }
        }
      ]
    },
    {
      "cell_type": "code",
      "source": [
        "# obtener el promedio y la desviación estándar de edad por tipo de embarque\n",
        "promedio_edad_por_embarque = df.groupby('Pclass')['Edad'].mean()\n",
        "std_edad_por_embarque = df.groupby('Pclass')['Edad'].std()\n",
        "\n",
        "# graficar el promedio de edad por tipo de embarque con barras de error\n",
        "plt.errorbar(promedio_edad_por_embarque.index, promedio_edad_por_embarque.values, yerr=std_edad_por_embarque.values, fmt='o')\n",
        "plt.xlabel('PClass')\n",
        "plt.ylabel('Promedio de edad')\n",
        "plt.title('Promedio de edad por tipo de PClass con barras de error')\n",
        "plt.show()"
      ],
      "metadata": {
        "colab": {
          "base_uri": "https://localhost:8080/",
          "height": 295
        },
        "id": "xHW1gHX3hIBn",
        "outputId": "a2691552-c6e7-49e4-d612-3e9a9730dbc1"
      },
      "execution_count": 50,
      "outputs": [
        {
          "output_type": "display_data",
          "data": {
            "text/plain": [
              "<Figure size 432x288 with 1 Axes>"
            ],
            "image/png": "[encoded data removed]"
          },
          "metadata": {
            "needs_background": "light"
          }
        }
      ]
    },
    {
      "cell_type": "markdown",
      "source": [
        "## Parte Extra : A jugar un poco\n",
        "En esta sección vamos a empezar a jugar un poco con la idea de lo que, en algún momento más adelante de la materia, buscaremos modelar o predecir, y es la supervivencia de los pasajeros."
      ],
      "metadata": {
        "id": "SDO-v6SBhC4X"
      }
    },
    {
      "cell_type": "code",
      "source": [
        "# crear una variable con los rangos de edad\n",
        "bins = range(0, 81, 15)\n",
        "#labels = ['{}-{}'.format(i, i+14) for i in range(0, 81, 15)]\n",
        "df['rango_edad'] = pd.cut(df['Edad'], bins=bins)\n",
        "\n",
        "\n",
        "# gráfico de barras apiladas para embarco\n",
        "embarco_data = df.groupby(['rango_edad', 'Embarco'])['Embarco'].count().unstack()\n",
        "embarco_data.plot(kind='bar', stacked=True)\n",
        "plt.xlabel('Edad')\n",
        "plt.ylabel('Frecuencia')\n",
        "plt.legend(title='Embarco', loc='center left', bbox_to_anchor=(1, 0.5))\n",
        "\n",
        "\n",
        "plt.show()\n"
      ],
      "metadata": {
        "colab": {
          "base_uri": "https://localhost:8080/",
          "height": 309
        },
        "id": "3XuoHrbSjgOA",
        "outputId": "38df87b9-b6d4-40cf-e29c-71c958606ddc"
      },
      "execution_count": 73,
      "outputs": [
        {
          "output_type": "display_data",
          "data": {
            "text/plain": [
              "<Figure size 432x288 with 1 Axes>"
            ],
            "image/png": "[encoded data removed]"
          },
          "metadata": {
            "needs_background": "light"
          }
        }
      ]
    }
  ]
}